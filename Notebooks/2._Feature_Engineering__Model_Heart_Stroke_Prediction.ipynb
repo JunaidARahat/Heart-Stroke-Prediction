{
 "cells": [
  {
   "cell_type": "markdown",
   "id": "4437a980",
   "metadata": {},
   "source": [
    "# Data Pre-Processing"
   ]
  },
  {
   "cell_type": "markdown",
   "id": "74b4d7e0",
   "metadata": {},
   "source": [
    "#### Import Packages and CSV"
   ]
  },
  {
   "cell_type": "code",
   "execution_count": 1,
   "id": "5530cc59",
   "metadata": {},
   "outputs": [
    {
     "name": "stdout",
     "output_type": "stream",
     "text": [
      "(5110, 12)\n"
     ]
    }
   ],
   "source": [
    "import pandas as pd\n",
    "import numpy as np\n",
    "import matplotlib.pyplot as plt\n",
    "import seaborn as sns\n",
    "import warnings\n",
    "warnings.filterwarnings(\"ignore\")\n",
    "pd.pandas.set_option(\"display.max_columns\", None)\n",
    "# Create Dataframe\n",
    "df = pd.read_csv(\"data/healthcare-dataset-stroke-data.csv\")\n",
    "# Print shape of dataset\n",
    "print(df.shape)"
   ]
  },
  {
   "cell_type": "code",
   "execution_count": 2,
   "id": "9d024d09",
   "metadata": {},
   "outputs": [
    {
     "data": {
      "text/html": [
       "<div>\n",
       "<style scoped>\n",
       "    .dataframe tbody tr th:only-of-type {\n",
       "        vertical-align: middle;\n",
       "    }\n",
       "\n",
       "    .dataframe tbody tr th {\n",
       "        vertical-align: top;\n",
       "    }\n",
       "\n",
       "    .dataframe thead th {\n",
       "        text-align: right;\n",
       "    }\n",
       "</style>\n",
       "<table border=\"1\" class=\"dataframe\">\n",
       "  <thead>\n",
       "    <tr style=\"text-align: right;\">\n",
       "      <th></th>\n",
       "      <th>id</th>\n",
       "      <th>gender</th>\n",
       "      <th>age</th>\n",
       "      <th>hypertension</th>\n",
       "      <th>heart_disease</th>\n",
       "      <th>ever_married</th>\n",
       "      <th>work_type</th>\n",
       "      <th>Residence_type</th>\n",
       "      <th>avg_glucose_level</th>\n",
       "      <th>bmi</th>\n",
       "      <th>smoking_status</th>\n",
       "      <th>stroke</th>\n",
       "    </tr>\n",
       "  </thead>\n",
       "  <tbody>\n",
       "    <tr>\n",
       "      <th>0</th>\n",
       "      <td>9046</td>\n",
       "      <td>Male</td>\n",
       "      <td>67.0</td>\n",
       "      <td>0</td>\n",
       "      <td>1</td>\n",
       "      <td>Yes</td>\n",
       "      <td>Private</td>\n",
       "      <td>Urban</td>\n",
       "      <td>228.69</td>\n",
       "      <td>36.6</td>\n",
       "      <td>formerly smoked</td>\n",
       "      <td>1</td>\n",
       "    </tr>\n",
       "    <tr>\n",
       "      <th>1</th>\n",
       "      <td>51676</td>\n",
       "      <td>Female</td>\n",
       "      <td>61.0</td>\n",
       "      <td>0</td>\n",
       "      <td>0</td>\n",
       "      <td>Yes</td>\n",
       "      <td>Self-employed</td>\n",
       "      <td>Rural</td>\n",
       "      <td>202.21</td>\n",
       "      <td>NaN</td>\n",
       "      <td>never smoked</td>\n",
       "      <td>1</td>\n",
       "    </tr>\n",
       "    <tr>\n",
       "      <th>2</th>\n",
       "      <td>31112</td>\n",
       "      <td>Male</td>\n",
       "      <td>80.0</td>\n",
       "      <td>0</td>\n",
       "      <td>1</td>\n",
       "      <td>Yes</td>\n",
       "      <td>Private</td>\n",
       "      <td>Rural</td>\n",
       "      <td>105.92</td>\n",
       "      <td>32.5</td>\n",
       "      <td>never smoked</td>\n",
       "      <td>1</td>\n",
       "    </tr>\n",
       "    <tr>\n",
       "      <th>3</th>\n",
       "      <td>60182</td>\n",
       "      <td>Female</td>\n",
       "      <td>49.0</td>\n",
       "      <td>0</td>\n",
       "      <td>0</td>\n",
       "      <td>Yes</td>\n",
       "      <td>Private</td>\n",
       "      <td>Urban</td>\n",
       "      <td>171.23</td>\n",
       "      <td>34.4</td>\n",
       "      <td>smokes</td>\n",
       "      <td>1</td>\n",
       "    </tr>\n",
       "    <tr>\n",
       "      <th>4</th>\n",
       "      <td>1665</td>\n",
       "      <td>Female</td>\n",
       "      <td>79.0</td>\n",
       "      <td>1</td>\n",
       "      <td>0</td>\n",
       "      <td>Yes</td>\n",
       "      <td>Self-employed</td>\n",
       "      <td>Rural</td>\n",
       "      <td>174.12</td>\n",
       "      <td>24.0</td>\n",
       "      <td>never smoked</td>\n",
       "      <td>1</td>\n",
       "    </tr>\n",
       "  </tbody>\n",
       "</table>\n",
       "</div>"
      ],
      "text/plain": [
       "      id  gender   age  hypertension  heart_disease ever_married  \\\n",
       "0   9046    Male  67.0             0              1          Yes   \n",
       "1  51676  Female  61.0             0              0          Yes   \n",
       "2  31112    Male  80.0             0              1          Yes   \n",
       "3  60182  Female  49.0             0              0          Yes   \n",
       "4   1665  Female  79.0             1              0          Yes   \n",
       "\n",
       "       work_type Residence_type  avg_glucose_level   bmi   smoking_status  \\\n",
       "0        Private          Urban             228.69  36.6  formerly smoked   \n",
       "1  Self-employed          Rural             202.21   NaN     never smoked   \n",
       "2        Private          Rural             105.92  32.5     never smoked   \n",
       "3        Private          Urban             171.23  34.4           smokes   \n",
       "4  Self-employed          Rural             174.12  24.0     never smoked   \n",
       "\n",
       "   stroke  \n",
       "0       1  \n",
       "1       1  \n",
       "2       1  \n",
       "3       1  \n",
       "4       1  "
      ]
     },
     "execution_count": 2,
     "metadata": {},
     "output_type": "execute_result"
    }
   ],
   "source": [
    "# First 5 rows of the dataset\n",
    "df.head()"
   ]
  },
  {
   "cell_type": "markdown",
   "id": "c27265bd",
   "metadata": {},
   "source": [
    "## Data Cleaning"
   ]
  },
  {
   "cell_type": "markdown",
   "id": "40b4a428",
   "metadata": {},
   "source": [
    "#### Check Null Values"
   ]
  },
  {
   "cell_type": "code",
   "execution_count": 3,
   "id": "2b94aa8f",
   "metadata": {},
   "outputs": [
    {
     "name": "stdout",
     "output_type": "stream",
     "text": [
      "bmi 3.93346 % missing values\n"
     ]
    }
   ],
   "source": [
    "##these are the features with nan value\n",
    "features_with_na=[features for features in df.columns if df[features].isnull().sum()>=1]\n",
    "for feature in features_with_na:\n",
    "    print(feature,np.round(df[feature].isnull().mean()*100,5), '% missing values')"
   ]
  },
  {
   "cell_type": "markdown",
   "id": "b35c055d",
   "metadata": {},
   "source": [
    "**What does NaN mean?**\n",
    "\n",
    "**Ans:** Missing Values in a DataFrame\n",
    "\n",
    "**Why might a value be missing?** \n",
    "\n",
    "**Ans:** When considering the potential impact of the missing data on the Dataset, it is important to consider the underlying reasons for why the data are missing\n",
    "Missing data are of three categories:\n",
    "* Missing completely at random (MCAR)\n",
    "* Missing at random (MAR).\n",
    "* Missing not at random (MNAR). \n",
    "\n",
    "Here it is MCAR type of missing values in dataset which are Missing completely at Random. \n",
    "\n",
    "When we make this assumption, we are assuming the missing data is completely unrelated to the other information in the data."
   ]
  },
  {
   "cell_type": "markdown",
   "id": "76eafe12",
   "metadata": {},
   "source": [
    "### 3.2 Other Data Cleaning steps"
   ]
  },
  {
   "cell_type": "markdown",
   "id": "471fd48f",
   "metadata": {},
   "source": [
    "**Handling Duplicates**"
   ]
  },
  {
   "cell_type": "code",
   "execution_count": 4,
   "id": "d8fa17e0",
   "metadata": {},
   "outputs": [
    {
     "data": {
      "text/plain": [
       "0"
      ]
     },
     "execution_count": 4,
     "metadata": {},
     "output_type": "execute_result"
    }
   ],
   "source": [
    "# Checking for duplicates\n",
    "df.duplicated().sum()"
   ]
  },
  {
   "cell_type": "markdown",
   "id": "5cf6d275",
   "metadata": {},
   "source": [
    "**Remove ID from the dataset as it cannot used in Model Training**\n",
    "\n",
    "**As a Report form the EDA we can drop `gender` and `Resident_type` as well**"
   ]
  },
  {
   "cell_type": "code",
   "execution_count": 5,
   "id": "828c0a89",
   "metadata": {},
   "outputs": [],
   "source": [
    "df.drop(['id', 'gender', 'Residence_type'], inplace=True, axis=1)"
   ]
  },
  {
   "cell_type": "markdown",
   "id": "6d48a184",
   "metadata": {},
   "source": [
    "# Feature Engineering"
   ]
  },
  {
   "cell_type": "markdown",
   "id": "66542de1",
   "metadata": {},
   "source": [
    "### Type of Features"
   ]
  },
  {
   "cell_type": "markdown",
   "id": "85df52e5",
   "metadata": {},
   "source": [
    "**Numeric Features**"
   ]
  },
  {
   "cell_type": "code",
   "execution_count": 6,
   "id": "baff199f",
   "metadata": {},
   "outputs": [
    {
     "name": "stdout",
     "output_type": "stream",
     "text": [
      "Num of Numerical Features : 6\n"
     ]
    },
    {
     "data": {
      "text/plain": [
       "['age', 'hypertension', 'heart_disease', 'avg_glucose_level', 'bmi', 'stroke']"
      ]
     },
     "execution_count": 6,
     "metadata": {},
     "output_type": "execute_result"
    }
   ],
   "source": [
    "numeric_features = [feature for feature in df.columns if df[feature].dtype != 'O']\n",
    "print('Num of Numerical Features :', len(numeric_features))\n",
    "numeric_features"
   ]
  },
  {
   "cell_type": "markdown",
   "id": "e1107060",
   "metadata": {},
   "source": [
    "**Categorical Features**"
   ]
  },
  {
   "cell_type": "code",
   "execution_count": 7,
   "id": "ff997805",
   "metadata": {},
   "outputs": [
    {
     "name": "stdout",
     "output_type": "stream",
     "text": [
      "Num of Categorical Features : 3\n"
     ]
    },
    {
     "data": {
      "text/plain": [
       "['ever_married', 'work_type', 'smoking_status']"
      ]
     },
     "execution_count": 7,
     "metadata": {},
     "output_type": "execute_result"
    }
   ],
   "source": [
    "categorical_features = [feature for feature in df.columns if df[feature].dtype == 'O']\n",
    "print('Num of Categorical Features :', len(categorical_features))\n",
    "categorical_features"
   ]
  },
  {
   "cell_type": "markdown",
   "id": "3ca43676",
   "metadata": {},
   "source": [
    "**Discrete Features**"
   ]
  },
  {
   "cell_type": "code",
   "execution_count": 8,
   "id": "812ee6e0",
   "metadata": {},
   "outputs": [
    {
     "name": "stdout",
     "output_type": "stream",
     "text": [
      "Num of Discrete Features : 3\n"
     ]
    },
    {
     "data": {
      "text/plain": [
       "['hypertension', 'heart_disease', 'stroke']"
      ]
     },
     "execution_count": 8,
     "metadata": {},
     "output_type": "execute_result"
    }
   ],
   "source": [
    "discrete_features=[feature for feature in numeric_features if (len(df[feature].unique())<=25)]\n",
    "print('Num of Discrete Features :',len(discrete_features))\n",
    "discrete_features"
   ]
  },
  {
   "cell_type": "markdown",
   "id": "3e6740bf",
   "metadata": {},
   "source": [
    "**Continuous features**"
   ]
  },
  {
   "cell_type": "code",
   "execution_count": 9,
   "id": "e501c72b",
   "metadata": {},
   "outputs": [
    {
     "name": "stdout",
     "output_type": "stream",
     "text": [
      "Num of Continuous Features : 3\n"
     ]
    },
    {
     "data": {
      "text/plain": [
       "['age', 'avg_glucose_level', 'bmi']"
      ]
     },
     "execution_count": 9,
     "metadata": {},
     "output_type": "execute_result"
    }
   ],
   "source": [
    "continuous_features=[feature for feature in numeric_features if len(df[feature].unique()) > 25]\n",
    "print('Num of Continuous Features :',len(continuous_features))\n",
    "continuous_features"
   ]
  },
  {
   "cell_type": "markdown",
   "id": "c1dedda3",
   "metadata": {},
   "source": [
    "**Imputing Null Values to Check VIF(Multi-Collinearity)**"
   ]
  },
  {
   "cell_type": "code",
   "execution_count": 10,
   "id": "0d745af3",
   "metadata": {},
   "outputs": [],
   "source": [
    "# Create copy of dataframe to check variance inflation factor\n",
    "df1 = df.copy()\n",
    "for i in continuous_features:\n",
    "    df1[i].fillna(df1[i].median(), inplace=True)"
   ]
  },
  {
   "cell_type": "markdown",
   "id": "7a9c40c8",
   "metadata": {},
   "source": [
    "### Multicollinearity Check\n",
    "#### Variance Inflation Factor (VIF)"
   ]
  },
  {
   "cell_type": "markdown",
   "id": "bcc04f4d",
   "metadata": {},
   "source": [
    "* Multicollinearity occurs when there are two or more independent variables in a multiple regression model, which have a high correlation among themselves. When some features are highly correlated.\n",
    "* Multicollinearity can be detected using various techniques, one such technique being the Variance Inflation Factor(VIF)."
   ]
  },
  {
   "cell_type": "code",
   "execution_count": 11,
   "id": "747d9a82",
   "metadata": {},
   "outputs": [],
   "source": [
    "from statsmodels.stats.outliers_influence import variance_inflation_factor\n",
    "def compute_vif(considered_features, df):\n",
    "    \n",
    "    X = df[considered_features]\n",
    "    # the calculation of variance inflation requires a constant\n",
    "    X['intercept'] = 1\n",
    "    \n",
    "    # create dataframe to store vif values\n",
    "    vif = pd.DataFrame()\n",
    "    vif[\"Variable\"] = X.columns\n",
    "    vif[\"VIF\"] = [variance_inflation_factor(X.values, i) for i in range(X.shape[1])]\n",
    "    vif = vif[vif['Variable']!='intercept']\n",
    "    return vif"
   ]
  },
  {
   "cell_type": "code",
   "execution_count": 12,
   "id": "a9509481",
   "metadata": {},
   "outputs": [
    {
     "data": {
      "text/html": [
       "<div>\n",
       "<style scoped>\n",
       "    .dataframe tbody tr th:only-of-type {\n",
       "        vertical-align: middle;\n",
       "    }\n",
       "\n",
       "    .dataframe tbody tr th {\n",
       "        vertical-align: top;\n",
       "    }\n",
       "\n",
       "    .dataframe thead th {\n",
       "        text-align: right;\n",
       "    }\n",
       "</style>\n",
       "<table border=\"1\" class=\"dataframe\">\n",
       "  <thead>\n",
       "    <tr style=\"text-align: right;\">\n",
       "      <th></th>\n",
       "      <th>Variable</th>\n",
       "      <th>VIF</th>\n",
       "    </tr>\n",
       "  </thead>\n",
       "  <tbody>\n",
       "    <tr>\n",
       "      <th>0</th>\n",
       "      <td>age</td>\n",
       "      <td>1.162810</td>\n",
       "    </tr>\n",
       "    <tr>\n",
       "      <th>1</th>\n",
       "      <td>avg_glucose_level</td>\n",
       "      <td>1.070325</td>\n",
       "    </tr>\n",
       "    <tr>\n",
       "      <th>2</th>\n",
       "      <td>bmi</td>\n",
       "      <td>1.128268</td>\n",
       "    </tr>\n",
       "  </tbody>\n",
       "</table>\n",
       "</div>"
      ],
      "text/plain": [
       "            Variable       VIF\n",
       "0                age  1.162810\n",
       "1  avg_glucose_level  1.070325\n",
       "2                bmi  1.128268"
      ]
     },
     "execution_count": 12,
     "metadata": {},
     "output_type": "execute_result"
    }
   ],
   "source": [
    "compute_vif(continuous_features, df1)"
   ]
  },
  {
   "cell_type": "markdown",
   "id": "482cfb4c",
   "metadata": {},
   "source": [
    " ” VIF determines the strength of the correlation between the independent variables. It is predicted by taking a variable and regressing it against every other variable “ \n",
    "\n",
    "VIF above 5 is indicator of Multicollinearity  \n",
    "\n",
    "**- This Dataset Doesnt have any Multicollinearity**"
   ]
  },
  {
   "cell_type": "markdown",
   "id": "d234a954",
   "metadata": {},
   "source": [
    "### Check Outlier and Capping it"
   ]
  },
  {
   "cell_type": "markdown",
   "id": "29b1ab3b",
   "metadata": {},
   "source": [
    "**Why outliers?**\n",
    "* Data Entry error : Human error. \n",
    "* Measurement error: Instrument error. \n",
    "* Natural error: it will be Real life data.\n",
    "* Intentional error: People give wrong inputs\n",
    "\n",
    "**Impact of Outliers ?**\n",
    "* Ouliers can very high impact on few Machine learning models.\n",
    "* Can Cause bias in the output."
   ]
  },
  {
   "cell_type": "code",
   "execution_count": 13,
   "id": "8e580ec1",
   "metadata": {},
   "outputs": [
    {
     "data": {
      "image/png": "[encoded data removed]",
      "text/plain": [
       "<Figure size 720x432 with 1 Axes>"
      ]
     },
     "metadata": {
      "needs_background": "light"
     },
     "output_type": "display_data"
    },
    {
     "data": {
      "image/png": "[encoded data removed]",
      "text/plain": [
       "<Figure size 720x432 with 1 Axes>"
      ]
     },
     "metadata": {},
     "output_type": "display_data"
    },
    {
     "data": {
      "image/png": "[encoded data removed]",
      "text/plain": [
       "<Figure size 720x432 with 1 Axes>"
      ]
     },
     "metadata": {},
     "output_type": "display_data"
    }
   ],
   "source": [
    "for i in continuous_features:\n",
    "        plt.figure(figsize=(10,6))\n",
    "        sns.set_style('ticks')\n",
    "        ax = sns.boxplot(df[i])"
   ]
  },
  {
   "cell_type": "markdown",
   "id": "b2c78731",
   "metadata": {},
   "source": [
    "**Standard deviation method For Outlier Handling?**"
   ]
  },
  {
   "cell_type": "markdown",
   "id": "d1f7c760",
   "metadata": {},
   "source": [
    "- Outlier removal using standard deviation procedure.\n",
    "- Usually z-score =3 is considered as a cut-off value to set the limit. Therefore, any z-score greater than +3 or less than -3 is considered as outlier which is pretty much similar to standard deviation method.\n",
    "- Here we can remove outliers after 3rd standard deviation or z-score +3 and -3. used to remove only extreme outlier points"
   ]
  },
  {
   "cell_type": "code",
   "execution_count": 14,
   "id": "45fedab7",
   "metadata": {},
   "outputs": [],
   "source": [
    "def outlier_removal(column, df):\n",
    "    upper_limit = df[column].mean() + 3*df[column].std()\n",
    "    lower_limit = df[column].mean() - 3*df[column].std()\n",
    "    df = df[(df[column] < upper_limit) & (df[column] > lower_limit)]\n",
    "    return df"
   ]
  },
  {
   "cell_type": "code",
   "execution_count": 15,
   "id": "c233b8ff",
   "metadata": {},
   "outputs": [
    {
     "data": {
      "text/plain": [
       "(5110, 9)"
      ]
     },
     "execution_count": 15,
     "metadata": {},
     "output_type": "execute_result"
    }
   ],
   "source": [
    "df.shape"
   ]
  },
  {
   "cell_type": "code",
   "execution_count": 16,
   "id": "b43d27bf",
   "metadata": {},
   "outputs": [],
   "source": [
    "outlier_feature = ['bmi']"
   ]
  },
  {
   "cell_type": "code",
   "execution_count": 17,
   "id": "03a89ff1",
   "metadata": {},
   "outputs": [],
   "source": [
    "for i in range(len(outlier_feature)):\n",
    "    df = outlier_removal(outlier_feature[i], df)"
   ]
  },
  {
   "cell_type": "code",
   "execution_count": 18,
   "id": "de1cf3a9",
   "metadata": {
    "scrolled": false
   },
   "outputs": [
    {
     "data": {
      "image/png": "[encoded data removed]",
      "text/plain": [
       "<Figure size 720x432 with 1 Axes>"
      ]
     },
     "metadata": {},
     "output_type": "display_data"
    },
    {
     "data": {
      "image/png": "[encoded data removed]",
      "text/plain": [
       "<Figure size 720x432 with 1 Axes>"
      ]
     },
     "metadata": {},
     "output_type": "display_data"
    },
    {
     "data": {
      "image/png": "[encoded data removed]",
      "text/plain": [
       "<Figure size 720x432 with 1 Axes>"
      ]
     },
     "metadata": {},
     "output_type": "display_data"
    }
   ],
   "source": [
    "for i in continuous_features:\n",
    "        plt.figure(figsize=(10,6))\n",
    "        sns.set_style('ticks')\n",
    "        ax = sns.boxplot(df[i])"
   ]
  },
  {
   "cell_type": "code",
   "execution_count": 19,
   "id": "ecdc226a",
   "metadata": {},
   "outputs": [
    {
     "data": {
      "text/plain": [
       "(4851, 9)"
      ]
     },
     "execution_count": 19,
     "metadata": {},
     "output_type": "execute_result"
    }
   ],
   "source": [
    "df.shape"
   ]
  },
  {
   "cell_type": "markdown",
   "id": "ca2d817d",
   "metadata": {},
   "source": [
    "## Feature Transformation"
   ]
  },
  {
   "cell_type": "code",
   "execution_count": 20,
   "id": "a9d716af",
   "metadata": {},
   "outputs": [
    {
     "data": {
      "text/plain": [
       "age                 -0.115593\n",
       "avg_glucose_level    1.626970\n",
       "bmi                  0.466922\n",
       "dtype: float64"
      ]
     },
     "execution_count": 20,
     "metadata": {},
     "output_type": "execute_result"
    }
   ],
   "source": [
    "df[continuous_features].skew(axis=0)"
   ]
  },
  {
   "cell_type": "markdown",
   "id": "1786c0ad",
   "metadata": {},
   "source": [
    "* **If Skewness is above 2 then the feature is Highly skewed**\n",
    "* **If Skewness is above 1.5 then the feature is Moderately skewed**"
   ]
  },
  {
   "cell_type": "code",
   "execution_count": 21,
   "id": "a921c3a0",
   "metadata": {
    "scrolled": false
   },
   "outputs": [
    {
     "data": {
      "image/png": "[encoded data removed]",
      "text/plain": [
       "<Figure size 864x432 with 3 Axes>"
      ]
     },
     "metadata": {},
     "output_type": "display_data"
    }
   ],
   "source": [
    "# distribution of data before scaling\n",
    "plt.figure(figsize=(12, 6))\n",
    "for i, col in enumerate(continuous_features):\n",
    "    plt.subplot(2, 2, i+1)\n",
    "    sns.kdeplot(x=df1[col], color='indianred')\n",
    "    plt.xlabel(col)\n",
    "    plt.tight_layout()"
   ]
  },
  {
   "cell_type": "markdown",
   "id": "e956e76d",
   "metadata": {},
   "source": [
    "- **Here `avg_glucose_level` is slightly skewed**\n",
    "- **`age` column have kutosis and it is platykurtic**\n",
    "- **`bmi` is normally distributed with very little data on the tails**"
   ]
  },
  {
   "cell_type": "markdown",
   "id": "5a2cf140",
   "metadata": {},
   "source": [
    "### Split X and Y"
   ]
  },
  {
   "cell_type": "code",
   "execution_count": 22,
   "id": "606bd5ec",
   "metadata": {},
   "outputs": [],
   "source": [
    "from sklearn.model_selection import train_test_split\n",
    "X = df.drop(['stroke'], axis=1)\n",
    "y = df['stroke']"
   ]
  },
  {
   "cell_type": "markdown",
   "id": "9455c01a",
   "metadata": {},
   "source": [
    "* **Split Dataframe to X and y**\n",
    "* **Here we set a variable X i.e, independent columns, and a variable y i.e, dependent column as the `stroke` column.**\n"
   ]
  },
  {
   "cell_type": "code",
   "execution_count": 23,
   "id": "00e06fc4",
   "metadata": {},
   "outputs": [
    {
     "name": "stdout",
     "output_type": "stream",
     "text": [
      "ever_married : 2\n",
      "work_type : 5\n",
      "smoking_status : 4\n"
     ]
    }
   ],
   "source": [
    "for feature in categorical_features:\n",
    "    print(feature,':', X[feature].nunique())"
   ]
  },
  {
   "cell_type": "markdown",
   "id": "51a3853d",
   "metadata": {},
   "source": [
    "## Feature Encoding and Scaling"
   ]
  },
  {
   "cell_type": "markdown",
   "id": "29dbaf2d",
   "metadata": {},
   "source": [
    " **One Hot Encoding for Columns which had lesser unique values and not ordinal**\n",
    "* One hot encoding is a process by which categorical variables are converted into a form that could be provided to ML algorithms to do a better job in prediction."
   ]
  },
  {
   "cell_type": "code",
   "execution_count": 24,
   "id": "d0353dca",
   "metadata": {
    "scrolled": true
   },
   "outputs": [
    {
     "name": "stdout",
     "output_type": "stream",
     "text": [
      "age: mean = 42.83, median = 44.00\n",
      "avg_glucose_level: mean = 105.10, median = 91.68\n",
      "bmi: mean = 28.54, median = 27.90\n"
     ]
    }
   ],
   "source": [
    "for i in continuous_features:\n",
    "    print(f'{i}: mean = {df[i].mean():.2f}, median = {df[i].median():.2f}')"
   ]
  },
  {
   "cell_type": "markdown",
   "id": "bcec9239",
   "metadata": {},
   "source": [
    "There are no missing values in `age` and `avg_glucose_level` and only `bmi` column should be handled. Based on the above result we can inpute the column with either mean or median. We can go with median imputation since it is robust than mean imputer."
   ]
  },
  {
   "cell_type": "markdown",
   "id": "1c240cad",
   "metadata": {},
   "source": [
    "* **Mean imputer:** Since we handeled outlier for the continuous features the mean and median of the features are nearly same. When there are no outliers mean performs an a better imputer.\n",
    "* **Standardscaler:** As the features distribution are nearly normal we use standard scaler.\n",
    "* **Power Transformer:** Since avg_glucose_level are skewed we use Power Transformer on them"
   ]
  },
  {
   "cell_type": "code",
   "execution_count": 25,
   "id": "348ccd3f",
   "metadata": {},
   "outputs": [],
   "source": [
    "# Create Column Transformer with 3 types of transformers\n",
    "categorical_features = X.select_dtypes(include=\"object\").columns\n",
    "num_feature = numeric_features.copy()\n",
    "num_feature.remove('stroke')\n",
    "transform_features=['avg_glucose_level']\n",
    "\n",
    "\n",
    "from sklearn.preprocessing import OneHotEncoder, StandardScaler, PowerTransformer\n",
    "from sklearn.compose import ColumnTransformer\n",
    "from sklearn.pipeline import Pipeline\n",
    "from sklearn.impute import SimpleImputer\n",
    "\n",
    "numeric_pipeline = Pipeline(steps=[\n",
    "    ('imputer', SimpleImputer(strategy='median')),\n",
    "    ('scaler', StandardScaler())\n",
    "])\n",
    "\n",
    "categorical_pipeline = Pipeline(steps=[\n",
    "    ('one_hot_encoder', OneHotEncoder()),\n",
    "    ('scaler', StandardScaler(with_mean=False))\n",
    "]\n",
    ")\n",
    "\n",
    "transform_pipe = Pipeline(steps=[\n",
    "    ('transformer', PowerTransformer(standardize=True))\n",
    "])\n",
    "\n",
    "preprocessor = ColumnTransformer(\n",
    "    [\n",
    "        (\"numeric_Pipeline\",numeric_pipeline,num_feature),\n",
    "        (\"Categorical_Pipeline\",categorical_pipeline, categorical_features),\n",
    "        (\"Power_Transformation\", transform_pipe, transform_features)\n",
    "]\n",
    ")"
   ]
  },
  {
   "cell_type": "code",
   "execution_count": 26,
   "id": "073fea39",
   "metadata": {},
   "outputs": [],
   "source": [
    "X= preprocessor.fit_transform(X)"
   ]
  },
  {
   "cell_type": "markdown",
   "id": "b0cb1742",
   "metadata": {},
   "source": [
    "## Handling Imbalanced Dataset"
   ]
  },
  {
   "cell_type": "markdown",
   "id": "4110b6b4",
   "metadata": {},
   "source": [
    "* Handling Imbalanced Target Variable.\n",
    "* Synthetic Minority Oversampling Technique or SMOTE is another technique to oversample the minority class. Simply adding duplicate records of minority class often don’t add any new information to the model.\n",
    "\n",
    "* SMOTE is one of the famous oversampling techniques and is very effective in handling class imbalance. The idea is to combine SMOTE with some undersampling techniques (ENN, Tomek) to increase the effectiveness of handling the imbalanced class."
   ]
  },
  {
   "cell_type": "markdown",
   "id": "f3741fc1",
   "metadata": {},
   "source": [
    " **SMOTE+ENN** is one of such a hybrid technique that aims to clean overlapping data points for each of the classes distributed in sample space.\n",
    " \n",
    "This method combines the SMOTE ability to generate synthetic data for minority class and uses ENN to remove overlapping observation of both the classes\n",
    " \n",
    " - **To add new data of minority class**\n",
    " 1. Choose random data from the minority class.\n",
    " 2. Calculate the distance between the random data and its k nearest neighbors.\n",
    " 3. Multiply the difference with a random number between 0 and 1, then add the result to the minority class as a synthetic sample.\n",
    " 4. Repeat step number 2–3 until the desired proportion of minority class is met.\n",
    " \n",
    " - **To remove the data points of both classes**\n",
    " 1. Determine K, as the number of nearest neighbors. If not determined, then K=3.\n",
    " 2. Find the K-nearest neighbor of the observation among the other observations in the dataset, then return the majority class from the K-nearest neighbor.\n",
    " 3. If the class of the observation and the majority class from the observation’s K-nearest neighbor is different, then the observation and its K-nearest neighbor are deleted from the dataset.\n",
    " 4. Repeat step 2 and 3 until the desired proportion of each class is fulfilled.\n",
    " \n",
    " - This is method instead of adding duplicate data it synthesises the new data based on the already avalialble classes. Hence we choose this as our imputer method for this problem."
   ]
  },
  {
   "cell_type": "code",
   "execution_count": 27,
   "id": "fde0c1c7",
   "metadata": {},
   "outputs": [],
   "source": [
    "from imblearn.combine import SMOTETomek, SMOTEENN\n",
    "\n",
    "# Resampling the minority class. The strategy can be changed as required.\n",
    "smt = SMOTEENN(random_state=42,sampling_strategy='minority' )\n",
    "# Fit the model to generate the data.\n",
    "X_res, y_res = smt.fit_resample(X, y)"
   ]
  },
  {
   "cell_type": "markdown",
   "id": "d81b9eaa",
   "metadata": {},
   "source": [
    "## Model Selection\n",
    "* **Here should understand the Various Classification models with default values from these models we can choose top 4 with Highest Accuracy score and proceed with HyperParameter Tuning**"
   ]
  },
  {
   "cell_type": "markdown",
   "id": "91bcc975",
   "metadata": {},
   "source": [
    "## Train Test Split"
   ]
  },
  {
   "cell_type": "markdown",
   "id": "dbdad979",
   "metadata": {},
   "source": [
    "* The train-test split procedure is used to estimate the performance of machine learning algorithms when they are used to make predictions on data not used to train the model.\n",
    "\n",
    "* It is a fast and easy procedure to perform, the results of which allow you to compare the performance of machine learning algorithms."
   ]
  },
  {
   "cell_type": "markdown",
   "id": "8b9e9fab",
   "metadata": {},
   "source": [
    "**Import Required packages for model training**"
   ]
  },
  {
   "cell_type": "code",
   "execution_count": 28,
   "id": "d82663ae",
   "metadata": {},
   "outputs": [],
   "source": [
    "from sklearn.tree  import DecisionTreeClassifier\n",
    "from sklearn.ensemble import RandomForestClassifier, GradientBoostingClassifier, AdaBoostClassifier\n",
    "from sklearn.linear_model import LogisticRegression\n",
    "from sklearn.neighbors import KNeighborsClassifier\n",
    "from sklearn.metrics import accuracy_score, classification_report,ConfusionMatrixDisplay, \\\n",
    "                            precision_score, recall_score, f1_score, roc_auc_score,roc_curve \n",
    "from sklearn.svm import SVC\n",
    "from sklearn.tree import DecisionTreeClassifier\n",
    "from xgboost import XGBClassifier\n",
    "from catboost import CatBoostClassifier"
   ]
  },
  {
   "cell_type": "code",
   "execution_count": 29,
   "id": "294493fc",
   "metadata": {},
   "outputs": [],
   "source": [
    "def evaluate_clf(true, predicted):\n",
    "    acc = accuracy_score(true, predicted) # Calculate Accuracy\n",
    "    f1 = f1_score(true, predicted) # Calculate F1-score\n",
    "    precision = precision_score(true, predicted) # Calculate Precision\n",
    "    recall = recall_score(true, predicted)  # Calculate Recall\n",
    "    roc_auc = roc_auc_score(true, predicted) #Calculate Roc\n",
    "    return acc, f1 , precision, recall, roc_auc"
   ]
  },
  {
   "cell_type": "code",
   "execution_count": 30,
   "id": "64be7b35",
   "metadata": {
    "scrolled": false
   },
   "outputs": [],
   "source": [
    "# Initialize models which are required for models\n",
    "models = {\n",
    "    \"Random Forest\": RandomForestClassifier(),\n",
    "    \"Decision Tree\": DecisionTreeClassifier(),\n",
    "    \"Gradient Boosting\": GradientBoostingClassifier(),\n",
    "    \"Logistic Regression\": LogisticRegression(),\n",
    "     \"K-Neighbors Classifier\": KNeighborsClassifier(),\n",
    "    \"XGBClassifier\": XGBClassifier(), \n",
    "     \"CatBoosting Classifier\": CatBoostClassifier(verbose=False),\n",
    "    \"AdaBoost Classifier\": AdaBoostClassifier()\n",
    "}"
   ]
  },
  {
   "cell_type": "code",
   "execution_count": 31,
   "id": "160d97b1",
   "metadata": {},
   "outputs": [],
   "source": [
    "# Create a function which can evaluate models and return a report \n",
    "def evaluate_models(X, y, models):\n",
    "    '''\n",
    "    This function takes in X and y and models dictionary as input\n",
    "    It splits the data into Train Test split\n",
    "    Iterates through the given model dictionary and evaluates the metrics\n",
    "    Returns: Dataframe which contains report of all models metrics with cost\n",
    "    '''\n",
    "    # separate dataset into train and test\n",
    "    X_train, X_test, y_train, y_test = train_test_split(X,y,test_size=0.2,random_state=42)\n",
    "    \n",
    "    models_list = []\n",
    "    accuracy_list = []\n",
    "    auc= []\n",
    "    \n",
    "    for i in range(len(list(models))):\n",
    "        model = list(models.values())[i]\n",
    "        model.fit(X_train, y_train) # Train model\n",
    "\n",
    "        # Make predictions\n",
    "        y_train_pred = model.predict(X_train)\n",
    "        y_test_pred = model.predict(X_test)\n",
    "\n",
    "        # Training set performance\n",
    "        model_train_accuracy, model_train_f1,model_train_precision,\\\n",
    "        model_train_recall,model_train_rocauc_score=evaluate_clf(y_train ,y_train_pred)\n",
    "\n",
    "\n",
    "        # Test set performance\n",
    "        model_test_accuracy,model_test_f1,model_test_precision,\\\n",
    "        model_test_recall,model_test_rocauc_score=evaluate_clf(y_test, y_test_pred)\n",
    "\n",
    "        print(list(models.keys())[i])\n",
    "        models_list.append(list(models.keys())[i])\n",
    "\n",
    "        print('Model performance for Training set')\n",
    "        print(\"- Accuracy: {:.4f}\".format(model_train_accuracy))\n",
    "        print('- F1 score: {:.4f}'.format(model_train_f1)) \n",
    "        print('- Precision: {:.4f}'.format(model_train_precision))\n",
    "        print('- Recall: {:.4f}'.format(model_train_recall))\n",
    "        print('- Roc Auc Score: {:.4f}'.format(model_train_rocauc_score))\n",
    "\n",
    "        print('----------------------------------')\n",
    "\n",
    "        print('Model performance for Test set')\n",
    "        print('- Accuracy: {:.4f}'.format(model_test_accuracy))\n",
    "        accuracy_list.append(model_test_accuracy)\n",
    "        print('- F1 score: {:.4f}'.format(model_test_f1))\n",
    "        print('- Precision: {:.4f}'.format(model_test_precision))\n",
    "        print('- Recall: {:.4f}'.format(model_test_recall))\n",
    "        print('- Roc Auc Score: {:.4f}'.format(model_test_rocauc_score))\n",
    "        auc.append(model_test_rocauc_score)\n",
    "        print('='*35)\n",
    "        print('\\n')\n",
    "        \n",
    "    report=pd.DataFrame(list(zip(models_list, accuracy_list)), columns=['Model Name', 'Accuracy']).sort_values(by=['Accuracy'], ascending=False)\n",
    "        \n",
    "    return report"
   ]
  },
  {
   "cell_type": "markdown",
   "id": "aaa19227",
   "metadata": {},
   "source": [
    "## Evaluate all base Models"
   ]
  },
  {
   "cell_type": "code",
   "execution_count": 32,
   "id": "b7ef5afc",
   "metadata": {
    "scrolled": false
   },
   "outputs": [
    {
     "name": "stdout",
     "output_type": "stream",
     "text": [
      "Random Forest\n",
      "Model performance for Training set\n",
      "- Accuracy: 1.0000\n",
      "- F1 score: 1.0000\n",
      "- Precision: 1.0000\n",
      "- Recall: 1.0000\n",
      "- Roc Auc Score: 1.0000\n",
      "----------------------------------\n",
      "Model performance for Test set\n",
      "- Accuracy: 0.9797\n",
      "- F1 score: 0.9808\n",
      "- Precision: 0.9680\n",
      "- Recall: 0.9939\n",
      "- Roc Auc Score: 0.9791\n",
      "===================================\n",
      "\n",
      "\n",
      "Decision Tree\n",
      "Model performance for Training set\n",
      "- Accuracy: 1.0000\n",
      "- F1 score: 1.0000\n",
      "- Precision: 1.0000\n",
      "- Recall: 1.0000\n",
      "- Roc Auc Score: 1.0000\n",
      "----------------------------------\n",
      "Model performance for Test set\n",
      "- Accuracy: 0.9354\n",
      "- F1 score: 0.9386\n",
      "- Precision: 0.9285\n",
      "- Recall: 0.9488\n",
      "- Roc Auc Score: 0.9348\n",
      "===================================\n",
      "\n",
      "\n",
      "Gradient Boosting\n",
      "Model performance for Training set\n",
      "- Accuracy: 0.9247\n",
      "- F1 score: 0.9301\n",
      "- Precision: 0.9107\n",
      "- Recall: 0.9504\n",
      "- Roc Auc Score: 0.9233\n",
      "----------------------------------\n",
      "Model performance for Test set\n",
      "- Accuracy: 0.9088\n",
      "- F1 score: 0.9156\n",
      "- Precision: 0.8825\n",
      "- Recall: 0.9513\n",
      "- Roc Auc Score: 0.9070\n",
      "===================================\n",
      "\n",
      "\n",
      "Logistic Regression\n",
      "Model performance for Training set\n",
      "- Accuracy: 0.8609\n",
      "- F1 score: 0.8720\n",
      "- Precision: 0.8465\n",
      "- Recall: 0.8990\n",
      "- Roc Auc Score: 0.8587\n",
      "----------------------------------\n",
      "Model performance for Test set\n",
      "- Accuracy: 0.8588\n",
      "- F1 score: 0.8692\n",
      "- Precision: 0.8382\n",
      "- Recall: 0.9026\n",
      "- Roc Auc Score: 0.8570\n",
      "===================================\n",
      "\n",
      "\n",
      "K-Neighbors Classifier\n",
      "Model performance for Training set\n",
      "- Accuracy: 0.9873\n",
      "- F1 score: 0.9881\n",
      "- Precision: 0.9779\n",
      "- Recall: 0.9985\n",
      "- Roc Auc Score: 0.9867\n",
      "----------------------------------\n",
      "Model performance for Test set\n",
      "- Accuracy: 0.9721\n",
      "- F1 score: 0.9738\n",
      "- Precision: 0.9523\n",
      "- Recall: 0.9963\n",
      "- Roc Auc Score: 0.9711\n",
      "===================================\n",
      "\n",
      "\n",
      "XGBClassifier\n",
      "Model performance for Training set\n",
      "- Accuracy: 1.0000\n",
      "- F1 score: 1.0000\n",
      "- Precision: 1.0000\n",
      "- Recall: 1.0000\n",
      "- Roc Auc Score: 1.0000\n",
      "----------------------------------\n",
      "Model performance for Test set\n",
      "- Accuracy: 0.9753\n",
      "- F1 score: 0.9765\n",
      "- Precision: 0.9677\n",
      "- Recall: 0.9854\n",
      "- Roc Auc Score: 0.9749\n",
      "===================================\n",
      "\n",
      "\n",
      "CatBoosting Classifier\n",
      "Model performance for Training set\n",
      "- Accuracy: 0.9902\n",
      "- F1 score: 0.9907\n",
      "- Precision: 0.9869\n",
      "- Recall: 0.9946\n",
      "- Roc Auc Score: 0.9899\n",
      "----------------------------------\n",
      "Model performance for Test set\n",
      "- Accuracy: 0.9658\n",
      "- F1 score: 0.9677\n",
      "- Precision: 0.9517\n",
      "- Recall: 0.9842\n",
      "- Roc Auc Score: 0.9650\n",
      "===================================\n",
      "\n",
      "\n",
      "AdaBoost Classifier\n",
      "Model performance for Training set\n",
      "- Accuracy: 0.8861\n",
      "- F1 score: 0.8958\n",
      "- Precision: 0.8648\n",
      "- Recall: 0.9290\n",
      "- Roc Auc Score: 0.8836\n",
      "----------------------------------\n",
      "Model performance for Test set\n",
      "- Accuracy: 0.8771\n",
      "- F1 score: 0.8872\n",
      "- Precision: 0.8487\n",
      "- Recall: 0.9294\n",
      "- Roc Auc Score: 0.8750\n",
      "===================================\n",
      "\n",
      "\n"
     ]
    }
   ],
   "source": [
    "base_report =evaluate_models(X=X_res, y=y_res, models=models)"
   ]
  },
  {
   "cell_type": "code",
   "execution_count": 33,
   "id": "40977abc",
   "metadata": {},
   "outputs": [
    {
     "data": {
      "text/html": [
       "<div>\n",
       "<style scoped>\n",
       "    .dataframe tbody tr th:only-of-type {\n",
       "        vertical-align: middle;\n",
       "    }\n",
       "\n",
       "    .dataframe tbody tr th {\n",
       "        vertical-align: top;\n",
       "    }\n",
       "\n",
       "    .dataframe thead th {\n",
       "        text-align: right;\n",
       "    }\n",
       "</style>\n",
       "<table border=\"1\" class=\"dataframe\">\n",
       "  <thead>\n",
       "    <tr style=\"text-align: right;\">\n",
       "      <th></th>\n",
       "      <th>Model Name</th>\n",
       "      <th>Accuracy</th>\n",
       "    </tr>\n",
       "  </thead>\n",
       "  <tbody>\n",
       "    <tr>\n",
       "      <th>0</th>\n",
       "      <td>Random Forest</td>\n",
       "      <td>0.979734</td>\n",
       "    </tr>\n",
       "    <tr>\n",
       "      <th>5</th>\n",
       "      <td>XGBClassifier</td>\n",
       "      <td>0.975301</td>\n",
       "    </tr>\n",
       "    <tr>\n",
       "      <th>4</th>\n",
       "      <td>K-Neighbors Classifier</td>\n",
       "      <td>0.972134</td>\n",
       "    </tr>\n",
       "    <tr>\n",
       "      <th>6</th>\n",
       "      <td>CatBoosting Classifier</td>\n",
       "      <td>0.965801</td>\n",
       "    </tr>\n",
       "    <tr>\n",
       "      <th>1</th>\n",
       "      <td>Decision Tree</td>\n",
       "      <td>0.935402</td>\n",
       "    </tr>\n",
       "    <tr>\n",
       "      <th>2</th>\n",
       "      <td>Gradient Boosting</td>\n",
       "      <td>0.908803</td>\n",
       "    </tr>\n",
       "    <tr>\n",
       "      <th>7</th>\n",
       "      <td>AdaBoost Classifier</td>\n",
       "      <td>0.877137</td>\n",
       "    </tr>\n",
       "    <tr>\n",
       "      <th>3</th>\n",
       "      <td>Logistic Regression</td>\n",
       "      <td>0.858771</td>\n",
       "    </tr>\n",
       "  </tbody>\n",
       "</table>\n",
       "</div>"
      ],
      "text/plain": [
       "               Model Name  Accuracy\n",
       "0           Random Forest  0.979734\n",
       "5           XGBClassifier  0.975301\n",
       "4  K-Neighbors Classifier  0.972134\n",
       "6  CatBoosting Classifier  0.965801\n",
       "1           Decision Tree  0.935402\n",
       "2       Gradient Boosting  0.908803\n",
       "7     AdaBoost Classifier  0.877137\n",
       "3     Logistic Regression  0.858771"
      ]
     },
     "execution_count": 33,
     "metadata": {},
     "output_type": "execute_result"
    }
   ],
   "source": [
    "base_report"
   ]
  },
  {
   "cell_type": "markdown",
   "id": "f3534db9",
   "metadata": {},
   "source": [
    "**Here we can use Random Forest , XGBoost Classifier, CatBoost Classifier, KNN classifier for Hyper Parameter Tuning**"
   ]
  },
  {
   "cell_type": "code",
   "execution_count": 34,
   "id": "893c4b00",
   "metadata": {},
   "outputs": [],
   "source": [
    "#Initialize few parameter for Hyperparamter tuning\n",
    "xgboost_params = {\n",
    "    \"learning_rate\": [0.1, 0.01],\n",
    "    \"max_depth\": [5, 8, 12, 20, 30],\n",
    "    \"n_estimators\": [100, 200, 300],\n",
    "    \"colsample_bylevel\": [0.5, 0.8, 1, 0.3, 0.4]\n",
    "}\n",
    "\n",
    "cat_params = {\n",
    "    \"learning_rate\": [0.1, 0.01],\n",
    "    \"max_depth\": [10, 15, 30, 20]\n",
    "}\n",
    "\n",
    "rf_params = {\n",
    "    \"max_depth\": [10, 12, None, 15],\n",
    "    \"max_features\": ['sqrt', 'log2', None],\n",
    "    \"min_samples_split\": [100, 150, 200, 300],\n",
    "    \"n_estimators\": [10, 50, 100, 200]\n",
    "}\n",
    "\n",
    "knn_params = {\n",
    "    \"algorithm\": ['auto', 'ball_tree', 'kd_tree','brute'],\n",
    "    \"weights\": ['uniform', 'distance'],\n",
    "    \"n_neighbors\": [3, 4, 5, 7, 9],\n",
    "}"
   ]
  },
  {
   "cell_type": "code",
   "execution_count": 35,
   "id": "a46028bd",
   "metadata": {},
   "outputs": [],
   "source": [
    "# Models list for Hyperparameter tuning\n",
    "randomcv_models = [\n",
    "    ('XGBoost', XGBClassifier(), xgboost_params),\n",
    "    ('CatBoost', CatBoostClassifier(verbose=False), cat_params),\n",
    "    (\"RF\", RandomForestClassifier(), rf_params),\n",
    "    (\"KNN\", KNeighborsClassifier(), knn_params)\n",
    "]"
   ]
  },
  {
   "cell_type": "code",
   "execution_count": 36,
   "id": "0dc8830b",
   "metadata": {},
   "outputs": [
    {
     "name": "stdout",
     "output_type": "stream",
     "text": [
      "Fitting 3 folds for each of 100 candidates, totalling 300 fits\n",
      "Fitting 3 folds for each of 8 candidates, totalling 24 fits\n",
      "Fitting 3 folds for each of 100 candidates, totalling 300 fits\n",
      "Fitting 3 folds for each of 40 candidates, totalling 120 fits\n",
      "---------------- Best Params for XGBoost -------------------\n",
      "{'n_estimators': 200, 'max_depth': 30, 'learning_rate': 0.1, 'colsample_bylevel': 0.3}\n",
      "---------------- Best Params for CatBoost -------------------\n",
      "{'max_depth': 15, 'learning_rate': 0.1}\n",
      "---------------- Best Params for RF -------------------\n",
      "{'n_estimators': 100, 'min_samples_split': 100, 'max_features': 'sqrt', 'max_depth': None}\n",
      "---------------- Best Params for KNN -------------------\n",
      "{'weights': 'distance', 'n_neighbors': 3, 'algorithm': 'auto'}\n"
     ]
    }
   ],
   "source": [
    "from sklearn.model_selection import RandomizedSearchCV\n",
    "\n",
    "model_param = {}\n",
    "for name, model, params in randomcv_models:\n",
    "    random = RandomizedSearchCV(estimator=model,\n",
    "                                   param_distributions=params,\n",
    "                                   n_iter=100,\n",
    "                                   cv=3,\n",
    "                                   verbose=2,\n",
    "                                   n_jobs=-1)\n",
    "    random.fit(X_res, y_res)\n",
    "    model_param[name] = random.best_params_\n",
    "\n",
    "for model_name in model_param:\n",
    "    print(f\"---------------- Best Params for {model_name} -------------------\")\n",
    "    print(model_param[model_name])"
   ]
  },
  {
   "cell_type": "markdown",
   "id": "9758d026",
   "metadata": {},
   "source": [
    "### Retraining the Model with best Parameters"
   ]
  },
  {
   "cell_type": "code",
   "execution_count": 37,
   "id": "3103bce3",
   "metadata": {
    "scrolled": false
   },
   "outputs": [
    {
     "name": "stdout",
     "output_type": "stream",
     "text": [
      "Random Forest Classifier\n",
      "Model performance for Training set\n",
      "- Accuracy: 0.9297\n",
      "- F1 score: 0.9349\n",
      "- Precision: 0.9119\n",
      "- Recall: 0.9591\n",
      "- Roc Auc Score: 0.9280\n",
      "----------------------------------\n",
      "Model performance for Test set\n",
      "- Accuracy: 0.9164\n",
      "- F1 score: 0.9217\n",
      "- Precision: 0.8983\n",
      "- Recall: 0.9464\n",
      "- Roc Auc Score: 0.9152\n",
      "===================================\n",
      "\n",
      "\n",
      "KNeighborsClassifier\n",
      "Model performance for Training set\n",
      "- Accuracy: 1.0000\n",
      "- F1 score: 1.0000\n",
      "- Precision: 1.0000\n",
      "- Recall: 1.0000\n",
      "- Roc Auc Score: 1.0000\n",
      "----------------------------------\n",
      "Model performance for Test set\n",
      "- Accuracy: 0.9848\n",
      "- F1 score: 0.9856\n",
      "- Precision: 0.9716\n",
      "- Recall: 1.0000\n",
      "- Roc Auc Score: 0.9842\n",
      "===================================\n",
      "\n",
      "\n",
      "XGBClassifier\n",
      "Model performance for Training set\n",
      "- Accuracy: 1.0000\n",
      "- F1 score: 1.0000\n",
      "- Precision: 1.0000\n",
      "- Recall: 1.0000\n",
      "- Roc Auc Score: 1.0000\n",
      "----------------------------------\n",
      "Model performance for Test set\n",
      "- Accuracy: 0.9791\n",
      "- F1 score: 0.9802\n",
      "- Precision: 0.9668\n",
      "- Recall: 0.9939\n",
      "- Roc Auc Score: 0.9785\n",
      "===================================\n",
      "\n",
      "\n",
      "CatBoosting Classifier\n",
      "Model performance for Training set\n",
      "- Accuracy: 1.0000\n",
      "- F1 score: 1.0000\n",
      "- Precision: 1.0000\n",
      "- Recall: 1.0000\n",
      "- Roc Auc Score: 1.0000\n",
      "----------------------------------\n",
      "Model performance for Test set\n",
      "- Accuracy: 0.9854\n",
      "- F1 score: 0.9862\n",
      "- Precision: 0.9739\n",
      "- Recall: 0.9988\n",
      "- Roc Auc Score: 0.9849\n",
      "===================================\n",
      "\n",
      "\n"
     ]
    }
   ],
   "source": [
    "from sklearn.metrics import roc_auc_score,roc_curve\n",
    "best_models = {\n",
    "    \"Random Forest Classifier\": RandomForestClassifier(**model_param['RF']),\n",
    "    \"KNeighborsClassifier\": KNeighborsClassifier(**model_param['KNN']),\n",
    "    \"XGBClassifier\": XGBClassifier(**model_param['XGBoost'],n_jobs=-1),\n",
    "    \"CatBoosting Classifier\": CatBoostClassifier(**model_param['CatBoost'],verbose=False),\n",
    "}\n",
    "tuned_report =evaluate_models(X=X_res, y=y_res, models=best_models)"
   ]
  },
  {
   "cell_type": "code",
   "execution_count": 38,
   "id": "7ab4f3ff",
   "metadata": {},
   "outputs": [
    {
     "data": {
      "text/html": [
       "<div>\n",
       "<style scoped>\n",
       "    .dataframe tbody tr th:only-of-type {\n",
       "        vertical-align: middle;\n",
       "    }\n",
       "\n",
       "    .dataframe tbody tr th {\n",
       "        vertical-align: top;\n",
       "    }\n",
       "\n",
       "    .dataframe thead th {\n",
       "        text-align: right;\n",
       "    }\n",
       "</style>\n",
       "<table border=\"1\" class=\"dataframe\">\n",
       "  <thead>\n",
       "    <tr style=\"text-align: right;\">\n",
       "      <th></th>\n",
       "      <th>Model Name</th>\n",
       "      <th>Accuracy</th>\n",
       "    </tr>\n",
       "  </thead>\n",
       "  <tbody>\n",
       "    <tr>\n",
       "      <th>3</th>\n",
       "      <td>CatBoosting Classifier</td>\n",
       "      <td>0.985434</td>\n",
       "    </tr>\n",
       "    <tr>\n",
       "      <th>1</th>\n",
       "      <td>KNeighborsClassifier</td>\n",
       "      <td>0.984801</td>\n",
       "    </tr>\n",
       "    <tr>\n",
       "      <th>2</th>\n",
       "      <td>XGBClassifier</td>\n",
       "      <td>0.979101</td>\n",
       "    </tr>\n",
       "    <tr>\n",
       "      <th>0</th>\n",
       "      <td>Random Forest Classifier</td>\n",
       "      <td>0.916403</td>\n",
       "    </tr>\n",
       "  </tbody>\n",
       "</table>\n",
       "</div>"
      ],
      "text/plain": [
       "                 Model Name  Accuracy\n",
       "3    CatBoosting Classifier  0.985434\n",
       "1      KNeighborsClassifier  0.984801\n",
       "2             XGBClassifier  0.979101\n",
       "0  Random Forest Classifier  0.916403"
      ]
     },
     "execution_count": 38,
     "metadata": {},
     "output_type": "execute_result"
    }
   ],
   "source": [
    "tuned_report"
   ]
  },
  {
   "cell_type": "markdown",
   "id": "86ae9437",
   "metadata": {},
   "source": [
    "## Plot Roc Auc Curve"
   ]
  },
  {
   "cell_type": "code",
   "execution_count": 40,
   "id": "dc6a57f9",
   "metadata": {},
   "outputs": [
    {
     "data": {
      "image/png": "[encoded data removed]",
      "text/plain": [
       "<Figure size 1008x504 with 1 Axes>"
      ]
     },
     "metadata": {},
     "output_type": "display_data"
    }
   ],
   "source": [
    "from sklearn.metrics import roc_auc_score,roc_curve\n",
    "# Add the models to the list that you want to view on the ROC plot\n",
    "auc_models = [\n",
    "{\n",
    "    'label': 'Random Forest Classifier',\n",
    "    'model': RandomForestClassifier(**model_param['RF']),\n",
    "    'auc': 0.9152\n",
    "},\n",
    "{\n",
    "    'label': 'XGBoost Classifier',\n",
    "    'model': XGBClassifier(**model_param['XGBoost'],n_jobs=-1),\n",
    "    'auc': 0.9785\n",
    "},\n",
    "{\n",
    "    'label': \"K-Nearest Neighbour Classifier\",\n",
    "    'model': KNeighborsClassifier(**model_param['KNN']),\n",
    "    'auc': 0.9842 \n",
    "},\n",
    "{\n",
    "    'label': 'CatBoost Classifier',\n",
    "    'model': CatBoostClassifier(**model_param['CatBoost'],verbose=False),\n",
    "    'auc': 0.9849\n",
    "},\n",
    "]\n",
    "\n",
    "X_train, X_test, y_train, y_test = train_test_split(X_res,y_res,test_size=0.2,random_state=42)\n",
    "# create loop through all model\n",
    "plt.figure(figsize=(14,7))\n",
    "for algo in auc_models:\n",
    "    model = algo['model'] # select the model\n",
    "    model.fit(X_train, y_train) # train the model\n",
    "# Compute False postive rate, and True positive rate\n",
    "    fpr, tpr, thresholds = roc_curve(y_test, model.predict_proba(X_test)[:,1])\n",
    "# Calculate Area under the curve to display on the plot\n",
    "    plt.plot(fpr, tpr, label='%s ROC (area = %0.2f)' % (algo['label'], algo['auc']))\n",
    "# Custom settings for the plot\n",
    "plt.plot([0, 1], [0, 1],'r--')\n",
    "plt.xlim([0.0, 1.0])\n",
    "plt.ylim([0.0, 1.05])\n",
    "plt.xlabel('1-Specificity(False Positive Rate)')\n",
    "plt.ylabel('Sensitivity(True Positive Rate)')\n",
    "plt.title('Receiver Operating Characteristic')\n",
    "plt.legend(loc=\"lower right\")\n",
    "# plt.savefig(r\"./images/auc.png\")\n",
    "plt.show()   # Display"
   ]
  },
  {
   "cell_type": "markdown",
   "id": "6ce3fcba",
   "metadata": {},
   "source": [
    "- Catboost Classifier performs the best compared to other models. "
   ]
  },
  {
   "cell_type": "markdown",
   "id": "4d9443b9",
   "metadata": {},
   "source": [
    "## Final report"
   ]
  },
  {
   "cell_type": "code",
   "execution_count": 41,
   "id": "398bb6cb",
   "metadata": {},
   "outputs": [
    {
     "name": "stdout",
     "output_type": "stream",
     "text": [
      "FINAL MODEL 'CATBOOST'\n",
      "Accuracy Score value: 0.9854\n",
      "              precision    recall  f1-score   support\n",
      "\n",
      "           0       1.00      0.97      0.98       758\n",
      "           1       0.97      1.00      0.99       821\n",
      "\n",
      "    accuracy                           0.99      1579\n",
      "   macro avg       0.99      0.98      0.99      1579\n",
      "weighted avg       0.99      0.99      0.99      1579\n",
      "\n"
     ]
    }
   ],
   "source": [
    "best_model = CatBoostClassifier(**model_param['CatBoost'], verbose=False)\n",
    "best_model = best_model.fit(X_train,y_train)\n",
    "y_pred = best_model.predict(X_test)\n",
    "score = accuracy_score(y_test,y_pred)\n",
    "cr = classification_report(y_test,y_pred)\n",
    "\n",
    "print(\"FINAL MODEL 'CATBOOST'\")\n",
    "print (\"Accuracy Score value: {:.4f}\".format(score))\n",
    "print (cr)"
   ]
  },
  {
   "cell_type": "code",
   "execution_count": 42,
   "id": "c233924f",
   "metadata": {},
   "outputs": [
    {
     "data": {
      "text/plain": [
       "<sklearn.metrics._plot.confusion_matrix.ConfusionMatrixDisplay at 0x2040063e7f0>"
      ]
     },
     "execution_count": 42,
     "metadata": {},
     "output_type": "execute_result"
    },
    {
     "data": {
      "image/png": "[encoded data removed]",
      "text/plain": [
       "<Figure size 432x288 with 2 Axes>"
      ]
     },
     "metadata": {},
     "output_type": "display_data"
    }
   ],
   "source": [
    "from sklearn.metrics import ConfusionMatrixDisplay\n",
    "ConfusionMatrixDisplay.from_estimator(best_model, X_test, y_test)"
   ]
  },
  {
   "cell_type": "markdown",
   "id": "109cccb4",
   "metadata": {},
   "source": [
    "### Best Model is CatBoost Classifier with 98.54 % Accuracy "
   ]
  },
  {
   "cell_type": "code",
   "execution_count": null,
   "id": "bb101545",
   "metadata": {},
   "outputs": [],
   "source": []
  }
 ],
 "metadata": {
  "kernelspec": {
   "display_name": "Python 3 (ipykernel)",
   "language": "python",
   "name": "python3"
  },
  "language_info": {
   "codemirror_mode": {
    "name": "ipython",
    "version": 3
   },
   "file_extension": ".py",
   "mimetype": "text/x-python",
   "name": "python",
   "nbconvert_exporter": "python",
   "pygments_lexer": "ipython3",
   "version": "3.9.12"
  }
 },
 "nbformat": 4,
 "nbformat_minor": 5
}
